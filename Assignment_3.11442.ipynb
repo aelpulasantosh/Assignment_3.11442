{
 "cells": [
  {
   "cell_type": "markdown",
   "metadata": {},
   "source": [
    "# Write a Python function which takes a character (i.e. a string of length 1) and returns True if it is a vowel, False otherwise"
   ]
  },
  {
   "cell_type": "code",
   "execution_count": 1,
   "metadata": {},
   "outputs": [
    {
     "name": "stdout",
     "output_type": "stream",
     "text": [
      "Please enter a character\tu\n"
     ]
    },
    {
     "data": {
      "text/plain": [
       "True"
      ]
     },
     "execution_count": 1,
     "metadata": {},
     "output_type": "execute_result"
    }
   ],
   "source": [
    "def vowel():\n",
    "    b=input(\"Please enter a character\\t\")\n",
    "    a=['a','e','i','o','u','A','E','I','O','U']\n",
    "    if b in a:\n",
    "        return True\n",
    "    else:\n",
    "        return False\n",
    "vowel()\n",
    "   "
   ]
  },
  {
   "cell_type": "markdown",
   "metadata": {},
   "source": [
    "# Write a Python program using function concept that maps list of words into a list of integers representing the lengths of the corresponding words."
   ]
  },
  {
   "cell_type": "code",
   "execution_count": 2,
   "metadata": {},
   "outputs": [
    {
     "data": {
      "text/plain": [
       "[2, 3, 8]"
      ]
     },
     "execution_count": 2,
     "metadata": {},
     "output_type": "execute_result"
    }
   ],
   "source": [
    "def map_to_lengths_for(words):\n",
    "    lengths=[]\n",
    "    for i in range(len(words)):\n",
    "        lengths.append(len(words[i]))\n",
    "    return lengths\n",
    "\n",
    "map_to_lengths_for(['ab','cde','elephant'])"
   ]
  },
  {
   "cell_type": "markdown",
   "metadata": {},
   "source": [
    "# Write a function filter_long_words() that takes a list of words and an integer n and returns the list of words that are longer than n.\n",
    "\n"
   ]
  },
  {
   "cell_type": "code",
   "execution_count": 3,
   "metadata": {},
   "outputs": [
    {
     "data": {
      "text/plain": [
       "['cde', 'elephant', 'hello']"
      ]
     },
     "execution_count": 3,
     "metadata": {},
     "output_type": "execute_result"
    }
   ],
   "source": [
    "def filter_long_words(words,integer):\n",
    "    lengths=[]\n",
    "    for i in range(len(words)):\n",
    "        if len(words[i])>integer:\n",
    "            lengths.append(words[i])\n",
    "    return lengths\n",
    "filter_long_words(['ab','cde','elephant','hello'],2)"
   ]
  },
  {
   "cell_type": "markdown",
   "metadata": {},
   "source": [
    "# Write a Python Program(with class concepts) to find the area of the triangle using the  formula area = (s*(s-a)*(s-b)*(s-c)) ** 0.5"
   ]
  },
  {
   "cell_type": "code",
   "execution_count": 5,
   "metadata": {},
   "outputs": [
    {
     "name": "stdout",
     "output_type": "stream",
     "text": [
      "Enter the value of Side a = 4.3\n",
      "Enter the value of Side b = 2\n",
      "Enter the value of Side c = 5.6\n",
      "Area of Triangle abc is 3.6841136993855086\n"
     ]
    }
   ],
   "source": [
    "    class Area_of_Triangle:\n",
    "     \n",
    "        def __init__(self,a,b,c):\n",
    "            self.a = float(a)\n",
    "            self.b = float(b)\n",
    "            self.c = float(c)\n",
    "     \n",
    "        def area(self):\n",
    "            s=(self.a + self.b + self.c)/2\n",
    "            return((s*(s-self.a)*(s-self.b)*(s-self.c))**0.5)\n",
    "     \n",
    "    a=input(\"Enter the value of Side a = \")\n",
    "    b=input(\"Enter the value of Side b = \")\n",
    "    c=input(\"Enter the value of Side c = \")\n",
    "    t = Area_of_Triangle(a, b, c)\n",
    "    print(\"Area of Triangle abc is {}\".format(t.area()))"
   ]
  },
  {
   "cell_type": "code",
   "execution_count": null,
   "metadata": {},
   "outputs": [],
   "source": []
  }
 ],
 "metadata": {
  "kernelspec": {
   "display_name": "Python 3",
   "language": "python",
   "name": "python3"
  },
  "language_info": {
   "codemirror_mode": {
    "name": "ipython",
    "version": 3
   },
   "file_extension": ".py",
   "mimetype": "text/x-python",
   "name": "python",
   "nbconvert_exporter": "python",
   "pygments_lexer": "ipython3",
   "version": "3.7.0"
  }
 },
 "nbformat": 4,
 "nbformat_minor": 2
}
